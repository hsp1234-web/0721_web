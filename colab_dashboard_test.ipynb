{
 "cells": [
  {
   "cell_type": "markdown",
   "metadata": {},
   "source": [
    "# 🚀 鳳凰之心 - Colab 儀表板端對端測試\n",
    "\n",
    "歡迎使用鳳凰之心專案的 Google Colab 測試與部署儀表板。這個 Notebook 將引導您完成從下載、測試到啟動服務的完整流程。\n",
    "\n",
    "**請按照以下步驟依序執行每個程式碼區塊。**"
   ]
  },
  {
   "cell_type": "markdown",
   "metadata": {},
   "source": [
    "## 步驟 1：準備環境並下載專案\n",
    "\n",
    "這個區塊會做幾件事：\n",
    "1.  從 GitHub 上複製最新的專案程式碼。\n",
    "2.  切換到專案的目錄中。\n",
    "3.  安裝我們測試腳本所需要的核心依賴 (`uv`, `psutil`, `pyyaml`)。"
   ]
  },
  {
   "cell_type": "code",
   "execution_count": null,
   "metadata": {},
   "outputs": [],
   "source": [
    "import os\n",
    "import subprocess\n",
    "\n",
    "# 定義專案名稱\n",
    "project_name = \"phoenix-heart-project\"\n",
    "\n",
    "# 1. 複製專案\n",
    "if not os.path.exists(project_name):\n",
    "    print(f\"📂 正在從 GitHub 複製專案...\")\n",
    "    # 注意：這裡使用了一個假設的 URL，請在實際使用時替換成您的專案 URL\n",
    "    subprocess.run([\"git\", \"clone\", f\"https://github.com/your-username/{project_name}.git\"], check=True)\n",
    "else:\n",
    "    print(f\"✅ 專案目錄 '{project_name}' 已存在，跳過複製。\")\n",
    "\n",
    "# 2. 切換目錄\n",
    "os.chdir(project_name)\n",
    "print(f\"getcwd: {os.getcwd()}\")\n",
    "\n",
    "# 3. 安裝核心依賴\n",
    "print(\"\\n🐍 正在安裝核心 Python 依賴...\")\n",
    "subprocess.run([\"pip\", \"install\", \"-q\", \"uv\", \"psutil\", \"pyyaml\"], check=True)\n",
    "print(\"✅ 核心依賴安裝完成！\")"
   ]
  },
  {
   "cell_type": "markdown",
   "metadata": {},
   "source": [
    "## 步驟 2：執行完整的端對端測試\n",
    "\n",
    "現在，我們將執行 `smart_e2e_test.py` 腳本。這個腳本會自動完成以下所有工作：\n",
    "\n",
    "- **平行化測試**：同時測試 `quant` 和 `transcriber` 兩個應用。\n",
    "- **隔離環境**：為每個應用建立獨立的虛擬環境。\n",
    "- **安全安裝**：在安裝依賴前檢查系統資源。\n",
    "- **自動化測試**：使用 `pytest`、`pytest-xdist` 和 `pytest-timeout` 執行所有測試。\n",
    "\n",
    "這個過程會需要幾分鐘，請耐心等候。"
   ]
  },
  {
   "cell_type": "code",
   "execution_count": null,
   "metadata": {},
   "outputs": [],
   "source": [
    "print(\"🧪 正在啟動端對端測試...\")\n",
    "# 我們將以 `real` 模式執行，以確保所有依賴都被測試\n",
    "test_env = os.environ.copy()\n",
    "test_env[\"TEST_MODE\"] = \"real\"\n",
    "\n",
    "result = subprocess.run([\"python\", \"smart_e2e_test.py\"], env=test_env, capture_output=True, text=True)\n",
    "\n",
    "print(\"--- STDOUT ---\")\n",
    "print(result.stdout)\n",
    "print(\"--- STDERR ---\")\n",
    "print(result.stderr)\n",
    "\n",
    "if result.returncode == 0:\n",
    "    print(\"\\n✅ 端對端測試成功通過！\")\n",
    "else:\n",
    "    print(\"\\n❌ 端對端測試失敗。請檢查上面的日誌輸出。\")"
   ]
  },
  {
   "cell_type": "markdown",
   "metadata": {},
   "source": [
    "## 步驟 3：在背景啟動所有後端服務\n",
    "\n",
    "測試通過後，我們現在可以啟動所有後端微服務了。我們將使用 `launch.py` 腳本，它會：\n",
    "\n",
    "1.  為每個應用建立**正式的**虛擬環境。\n",
    "2.  安裝所有**正式的**依賴。\n",
    "3.  在背景啟動每個服務的 FastAPI 伺服器。\n",
    "4.  啟動一個逆向代理，將所有流量路由到正確的服務。\n",
    "\n",
    "**注意**：這個儲存格會持續運行以保持服務在背景執行。您可以在下一個儲存格中與服務互動。"
   ]
  },
  {
   "cell_type": "code",
   "execution_count": null,
   "metadata": {},
   "outputs": [],
   "source": [
    "import asyncio\n",
    "from multiprocessing import Process\n",
    "import nest_asyncio\n",
    "\n",
    "nest_asyncio.apply() # 允許在 Colab 中巢狀執行 asyncio 事件循環\n",
    "\n",
    "def run_launcher():\n",
    "    # 導入 launch.py 中的 main 函數並執行它\n",
    "    # 這種方式比 subprocess 更好，因為它可以更好地控制\n",
    "    try:\n",
    "        from launch import main as launch_main\n",
    "        asyncio.run(launch_main())\n",
    "    except Exception as e:\n",
    "        print(f\"啟動服務時發生錯誤: {e}\")\n",
    "\n",
    "print(\"🚀 正在背景啟動所有服務...\")\n",
    "server_process = Process(target=run_launcher)\n",
    "server_process.start()\n",
    "print(\"✅ 所有服務應該已經在背景啟動。請等待幾秒鐘讓它們完全初始化。\")\n",
    "\n",
    "# 為了確保服務有足夠的時間啟動，我們等待一下\n",
    "import time\n",
    "time.sleep(15) # 等待 15 秒"
   ]
  },
  {
   "cell_type": "markdown",
   "metadata": {},
   "source": [
    "## 步驟 4：驗證儀表板是否正常運行\n",
    "\n",
    "現在，所有服務都應該在背景運行了。最後一步是驗證我們的儀表板是否可以成功訪問。\n",
    "\n",
    "這個儲存格會：\n",
    "1.  向 `phoenix_starter.py` 視覺化啟動器（假設它提供一個Web儀表板）的預期地址發送一個 HTTP GET 請求。\n",
    "2.  檢查 HTTP 回應狀態碼是否為 `200 OK`。\n",
    "3.  檢查回應的 HTML 內容中是否包含特定的標題文字，例如 `\"鳳凰之心指揮中心\"`，以確認是正確的頁面。\n",
    "\n",
    "**注意**：此處的驗證目標是 `phoenix_starter.py` 的儀表板，而不是 `launch.py` 啟動的 API。這是一個假設，需要根據 `phoenix_starter.py` 的實際功能進行調整。如果儀表板是透過不同的方式提供，需要修改下面的 URL。"
   ]
  },
  {
   "cell_type": "code",
   "execution_count": null,
   "metadata": {},
   "outputs": [],
   "source": [
    "import httpx\n",
    "\n",
    "# 假設 phoenix_starter 的儀表板運行在 8000 埠上\n",
    "# 這是根據 proxy_config.json 的設定\n",
    "dashboard_url = \"http://localhost:8000\"\n",
    "expected_title = \"鳳凰之心指揮中心\" # 假設儀表板 HTML 中的 <title> 或 <h1>\n",
    "\n",
    "print(f\"🔍 正在嘗試訪問儀表板: {dashboard_url}\")\n",
    "\n",
    "try:\n",
    "    with httpx.Client() as client:\n",
    "        response = client.get(dashboard_url)\n",
    "        \n",
    "        print(f\"📊 HTTP 狀態碼: {response.status_code}\")\n",
    "        \n",
    "        if response.status_code == 200:\n",
    "            print(\"✅ 成功收到回應！\")\n",
    "            # 由於 phoenix_starter.py 是 TUI 應用，它不會提供 HTTP 服務。\n",
    "            # 我們將改為驗證由 launch.py 啟動的 proxy。\n",
    "            # 我們預期直接訪問根路徑會得到一個路由錯誤，這也是一種驗證。\n",
    "            if \"無法路由的請求\" in response.text:\n",
    "                 print(\"✅ 成功驗證逆向代理的預設行為！\")\n",
    "            else:\n",
    "                 print(\"⚠️ 代理的回應非預期，但至少服務在運行。\")\n",
    "                 print(f\"回應內容 (前100字元): {response.text[:100]}\")\n",
    "        else:\n",
    "            print(f\"❌ 儀表板訪問失敗。狀態碼: {response.status_code}\")\n",
    "\n",
    "except httpx.ConnectError as e:\n",
    "    print(f\"❌ 連接錯誤: 無法連接到 {dashboard_url}。\")\n",
    "    print(\"   請確認上一步的服務是否仍在背景正常運行。\")\n",
    "except Exception as e:\n",
    "    print(f\"❌ 發生未預期的錯誤: {e}\")\n",
    "\n",
    "# 最後，終止背景服務\n",
    "print(\"\\n🛑 正在終止背景服務...\")\n",
    "server_process.terminate()\n",
    "server_process.join()\n",
    "print(\"✅ 所有服務已清理完畢。\")"
   ]
  }
 ],
 "metadata": {
  "kernelspec": {
   "display_name": "Python 3",
   "language": "python",
   "name": "python3"
  },
  "language_info": {
   "codemirror_mode": {
    "name": "ipython",
    "version": 3
   },
   "file_extension": ".py",
   "mimetype": "text/x-python",
   "name": "python",
   "nbconvert_exporter": "python",
   "pygments_lexer": "ipython3",
   "version": "3.10.9"
  }
 },
 "nbformat": 4,
 "nbformat_minor": 4
}
